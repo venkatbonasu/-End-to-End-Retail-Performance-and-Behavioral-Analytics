{
 "cells": [
  {
   "metadata": {},
   "cell_type": "markdown",
   "source": "DATA CLEANING",
   "id": "af34b4169dc0bd05"
  },
  {
   "cell_type": "code",
   "id": "initial_id",
   "metadata": {
    "collapsed": true,
    "ExecuteTime": {
     "end_time": "2025-09-03T08:21:50.652310Z",
     "start_time": "2025-09-03T08:21:50.637533Z"
    }
   },
   "source": "import pandas as pd",
   "outputs": [],
   "execution_count": 188
  },
  {
   "metadata": {
    "ExecuteTime": {
     "end_time": "2025-09-03T08:21:50.745599Z",
     "start_time": "2025-09-03T08:21:50.702231Z"
    }
   },
   "cell_type": "code",
   "source": [
    "df1 = pd.read_csv(\"customers.csv\")\n",
    "df1[\"signup_date\"] = pd.to_datetime(df1[\"signup_date\"], errors=\"coerce\")\n",
    "median_age = df1['age'].median()\n",
    "# Fill null values with the calculated median\n",
    "df1['age'] = df1['age'].fillna(median_age)\n",
    "\n",
    "# Finally, ensure the column is an integer type\n",
    "df1['age'] = df1['age'].astype(int)\n",
    "print(median_age)\n",
    "\n",
    "duplicate_products = df1[df1.duplicated(subset=[\"customer_id\"], keep=False)]\n",
    "print(\"Duplicate customer_ids:\\n\", duplicate_products)\n",
    "# 2. Remove duplicates (keep only first occurrence)\n",
    "df1 = df1.drop_duplicates(subset=[\"customer_id\"], keep=\"first\")\n",
    "# 3. Verify\n",
    "print(\"Remaining duplicates:\", df1.duplicated(subset=[\"customer_id\"]).sum())"
   ],
   "id": "4ddda7c9da706e77",
   "outputs": [
    {
     "name": "stdout",
     "output_type": "stream",
     "text": [
      "44.0\n",
      "Duplicate customer_ids:\n",
      "     customer_id first_name   last_name  gender  age signup_date region\n",
      "59        C0059     Alison      Berger    Male   56  2020-11-16   West\n",
      "135       C0135     Hector      Clarke   Other   30  2025-04-04   East\n",
      "179       C0179      Carol        Lara  Female   42  2021-10-03  North\n",
      "373       C0373    Melissa        Cole  Female   66  2020-10-10  North\n",
      "396       C0396      Laura       Smith  Female   67  2025-03-10  South\n",
      "476       C0476       John          Le  Female   29  2022-11-23   West\n",
      "480       C0480    Matthew       Moore  Female   27  2020-05-23  South\n",
      "515       C0515  Elizabeth     Alvarez   Other   46  2023-07-22   East\n",
      "526       C0526    Michael       Brown   Other   25  2021-08-09   East\n",
      "572       C0572    Abigail       Adams    Male   21  2020-04-20   West\n",
      "596       C0596      David        Carr  Female   18  2022-08-22  South\n",
      "600       C0600    Timothy  Cunningham    Male   39  2021-04-24  South\n",
      "631       C0631   Kimberly       Woods    Male   52  2020-10-26   West\n",
      "636       C0636    Richard      Watson  Female   33  2020-11-18  North\n",
      "698       C0698    Charles      Gordon   Other   37  2024-09-09  North\n",
      "797       C0797     Jordan       Smith   Other   56  2020-04-29   West\n",
      "800       C0179      Carol        Lara  Female   42  2021-10-03  North\n",
      "801       C0596      David        Carr  Female   18  2022-08-22  South\n",
      "802       C0396      Laura       Smith  Female   67  2025-03-10  South\n",
      "803       C0797     Jordan       Smith   Other   56  2020-04-29   West\n",
      "804       C0526    Michael       Brown   Other   25  2021-08-09   East\n",
      "805       C0636    Richard      Watson  Female   33  2020-11-18  North\n",
      "806       C0631   Kimberly       Woods    Male   52  2020-10-26   West\n",
      "807       C0373    Melissa        Cole  Female   66  2020-10-10  North\n",
      "808       C0135     Hector      Clarke   Other   30  2025-04-04   East\n",
      "809       C0572    Abigail       Adams    Male   21  2020-04-20   West\n",
      "810       C0698    Charles      Gordon   Other   37  2024-09-09  North\n",
      "811       C0476       John          Le  Female   29  2022-11-23   West\n",
      "812       C0059     Alison      Berger    Male   56  2020-11-16   West\n",
      "813       C0600    Timothy  Cunningham    Male   39  2021-04-24  South\n",
      "814       C0480    Matthew       Moore  Female   27  2020-05-23  South\n",
      "815       C0515  Elizabeth     Alvarez   Other   46  2023-07-22   East\n",
      "Remaining duplicates: 0\n"
     ]
    }
   ],
   "execution_count": 189
  },
  {
   "metadata": {
    "ExecuteTime": {
     "end_time": "2025-09-03T08:21:50.887229Z",
     "start_time": "2025-09-03T08:21:50.852900Z"
    }
   },
   "cell_type": "code",
   "source": [
    "df2 = pd.read_csv(\"returns.csv\")\n",
    "df2[\"return_date\"] = pd.to_datetime(df2[\"return_date\"], errors=\"coerce\")\n",
    "df2.dropna(inplace=True)\n",
    "duplicate_products = df2[df2.duplicated(subset=[\"return_id\"], keep=False)]\n",
    "print(\"Duplicate customer_ids:\\n\", duplicate_products)\n",
    "\n",
    "# 2. Remove duplicates (keep only first occurrence)\n",
    "df2 = df2.drop_duplicates(subset=[\"return_id\"], keep=\"first\")\n",
    "\n",
    "# 3. Verify\n",
    "print(\"Remaining duplicates:\", df2.duplicated(subset=[\"return_id\"]).sum())"
   ],
   "id": "72f201377afe1ef6",
   "outputs": [
    {
     "name": "stdout",
     "output_type": "stream",
     "text": [
      "Duplicate customer_ids:\n",
      "     return_id order_id return_date     return_reason\n",
      "35      R0035   O02071  2023-08-10         Defective\n",
      "156     R0156   O01596  2024-01-27  No Longer Needed\n",
      "182     R0182   O00585  2024-08-24     Late Delivery\n",
      "194     R0194   O00934  2024-09-09        Wrong Item\n",
      "200     R0182   O00585  2024-08-24     Late Delivery\n",
      "201     R0156   O01596  2024-01-27  No Longer Needed\n",
      "202     R0194   O00934  2024-09-09        Wrong Item\n",
      "203     R0035   O02071  2023-08-10         Defective\n",
      "Remaining duplicates: 0\n"
     ]
    }
   ],
   "execution_count": 190
  },
  {
   "metadata": {
    "ExecuteTime": {
     "end_time": "2025-09-03T08:21:50.989841Z",
     "start_time": "2025-09-03T08:21:50.915422Z"
    }
   },
   "cell_type": "code",
   "source": [
    "df3 = pd.read_csv(\"sales_data.csv\")\n",
    "df3[\"order_date\"] = pd.to_datetime(df3[\"order_date\"], errors=\"coerce\")\n",
    "df3['store_id'] = df3['store_id'].fillna('0')\n",
    "duplicate_products = df3[df3.duplicated(subset=[\"order_id\"], keep=False)]\n",
    "#print(\"Duplicate order_ids:\\n\", duplicate_products)\n",
    "\n",
    "duplicate_products = df3[df3.duplicated(subset=[\"product_id\"], keep=False)]\n",
    "\n",
    "# Count how many times each duplicate order_id appears\n",
    "duplicate_counts = duplicate_products.groupby(\"product_id\").size().reset_index(name=\"count\")\n",
    "\n",
    "print(\"Duplicate product_ids with counts:\\n\", duplicate_counts)\n",
    "\n",
    "\n",
    "duplicate_products = df3[df3.duplicated(subset=[\"product_id\"], keep=False)]\n",
    "print(\"Duplicate product_ids:\\n\", duplicate_products)\n",
    "\n",
    "\n",
    "# 2. Remove duplicates (keep only first occurrence)\n",
    "df3 = df3.drop_duplicates(subset=[\"order_id\"], keep=\"first\")\n",
    "\n",
    "# 3. Verify\n",
    "print(\"Remaining duplicates:\", df3.duplicated(subset=[\"order_id\"]).sum())\n",
    "\n",
    "df3.head()"
   ],
   "id": "ee15c2152207f2a0",
   "outputs": [
    {
     "name": "stdout",
     "output_type": "stream",
     "text": [
      "Duplicate product_ids with counts:\n",
      "     product_id  count\n",
      "0        P0000      5\n",
      "1        P0001      3\n",
      "2        P0004      2\n",
      "3        P0005      2\n",
      "4        P0006      6\n",
      "..         ...    ...\n",
      "852      P1194      4\n",
      "853      P1195      4\n",
      "854      P1196      3\n",
      "855      P1197      3\n",
      "856      P1199      2\n",
      "\n",
      "[857 rows x 2 columns]\n",
      "Duplicate product_ids:\n",
      "      order_id order_date customer_id product_id store_id sales_channel  \\\n",
      "0      O00000 2024-01-31       C0125      P1086        0        Online   \n",
      "1      O00001 2024-09-29       C0633      P0973     S042      In-Store   \n",
      "2      O00002 2023-08-29       C0653      P0659        0        Online   \n",
      "3      O00003 2024-05-13       C0753      P0666     S014      In-Store   \n",
      "4      O00004 2024-07-22       C0627      P0166     S017      In-Store   \n",
      "...       ...        ...         ...        ...      ...           ...   \n",
      "3055   O02044 2024-09-26       C0580      P0886     S024      In-Store   \n",
      "3056   O02352 2023-11-16       C0632      P0091     S034      In-Store   \n",
      "3057   O02014 2023-06-25       C0127      P0296        0        Online   \n",
      "3058   O01371 2025-02-12       C0741      P1056        0        Online   \n",
      "3059   O00797 2025-03-27       C0479      P0659        0        Online   \n",
      "\n",
      "      quantity  unit_price  discount_pct  total_amount  \n",
      "0            2       80.63          0.05        153.20  \n",
      "1           20      209.16          0.05       3974.00  \n",
      "2            2      218.60          0.10        393.48  \n",
      "3            1       78.53          0.20         62.82  \n",
      "4            1      344.93          0.20        275.94  \n",
      "...        ...         ...           ...           ...  \n",
      "3055         2       82.92          0.00        165.84  \n",
      "3056         1       27.29          0.10         24.56  \n",
      "3057         3       34.89          0.00        104.67  \n",
      "3058         1       57.51          0.05         54.63  \n",
      "3059        10      218.60          0.10       1967.40  \n",
      "\n",
      "[2819 rows x 10 columns]\n",
      "Remaining duplicates: 0\n"
     ]
    },
    {
     "data": {
      "text/plain": [
       "  order_id order_date customer_id product_id store_id sales_channel  quantity  \\\n",
       "0   O00000 2024-01-31       C0125      P1086        0        Online         2   \n",
       "1   O00001 2024-09-29       C0633      P0973     S042      In-Store        20   \n",
       "2   O00002 2023-08-29       C0653      P0659        0        Online         2   \n",
       "3   O00003 2024-05-13       C0753      P0666     S014      In-Store         1   \n",
       "4   O00004 2024-07-22       C0627      P0166     S017      In-Store         1   \n",
       "\n",
       "   unit_price  discount_pct  total_amount  \n",
       "0       80.63          0.05        153.20  \n",
       "1      209.16          0.05       3974.00  \n",
       "2      218.60          0.10        393.48  \n",
       "3       78.53          0.20         62.82  \n",
       "4      344.93          0.20        275.94  "
      ],
      "text/html": [
       "<div>\n",
       "<style scoped>\n",
       "    .dataframe tbody tr th:only-of-type {\n",
       "        vertical-align: middle;\n",
       "    }\n",
       "\n",
       "    .dataframe tbody tr th {\n",
       "        vertical-align: top;\n",
       "    }\n",
       "\n",
       "    .dataframe thead th {\n",
       "        text-align: right;\n",
       "    }\n",
       "</style>\n",
       "<table border=\"1\" class=\"dataframe\">\n",
       "  <thead>\n",
       "    <tr style=\"text-align: right;\">\n",
       "      <th></th>\n",
       "      <th>order_id</th>\n",
       "      <th>order_date</th>\n",
       "      <th>customer_id</th>\n",
       "      <th>product_id</th>\n",
       "      <th>store_id</th>\n",
       "      <th>sales_channel</th>\n",
       "      <th>quantity</th>\n",
       "      <th>unit_price</th>\n",
       "      <th>discount_pct</th>\n",
       "      <th>total_amount</th>\n",
       "    </tr>\n",
       "  </thead>\n",
       "  <tbody>\n",
       "    <tr>\n",
       "      <th>0</th>\n",
       "      <td>O00000</td>\n",
       "      <td>2024-01-31</td>\n",
       "      <td>C0125</td>\n",
       "      <td>P1086</td>\n",
       "      <td>0</td>\n",
       "      <td>Online</td>\n",
       "      <td>2</td>\n",
       "      <td>80.63</td>\n",
       "      <td>0.05</td>\n",
       "      <td>153.20</td>\n",
       "    </tr>\n",
       "    <tr>\n",
       "      <th>1</th>\n",
       "      <td>O00001</td>\n",
       "      <td>2024-09-29</td>\n",
       "      <td>C0633</td>\n",
       "      <td>P0973</td>\n",
       "      <td>S042</td>\n",
       "      <td>In-Store</td>\n",
       "      <td>20</td>\n",
       "      <td>209.16</td>\n",
       "      <td>0.05</td>\n",
       "      <td>3974.00</td>\n",
       "    </tr>\n",
       "    <tr>\n",
       "      <th>2</th>\n",
       "      <td>O00002</td>\n",
       "      <td>2023-08-29</td>\n",
       "      <td>C0653</td>\n",
       "      <td>P0659</td>\n",
       "      <td>0</td>\n",
       "      <td>Online</td>\n",
       "      <td>2</td>\n",
       "      <td>218.60</td>\n",
       "      <td>0.10</td>\n",
       "      <td>393.48</td>\n",
       "    </tr>\n",
       "    <tr>\n",
       "      <th>3</th>\n",
       "      <td>O00003</td>\n",
       "      <td>2024-05-13</td>\n",
       "      <td>C0753</td>\n",
       "      <td>P0666</td>\n",
       "      <td>S014</td>\n",
       "      <td>In-Store</td>\n",
       "      <td>1</td>\n",
       "      <td>78.53</td>\n",
       "      <td>0.20</td>\n",
       "      <td>62.82</td>\n",
       "    </tr>\n",
       "    <tr>\n",
       "      <th>4</th>\n",
       "      <td>O00004</td>\n",
       "      <td>2024-07-22</td>\n",
       "      <td>C0627</td>\n",
       "      <td>P0166</td>\n",
       "      <td>S017</td>\n",
       "      <td>In-Store</td>\n",
       "      <td>1</td>\n",
       "      <td>344.93</td>\n",
       "      <td>0.20</td>\n",
       "      <td>275.94</td>\n",
       "    </tr>\n",
       "  </tbody>\n",
       "</table>\n",
       "</div>"
      ]
     },
     "execution_count": 191,
     "metadata": {},
     "output_type": "execute_result"
    }
   ],
   "execution_count": 191
  },
  {
   "metadata": {
    "ExecuteTime": {
     "end_time": "2025-09-03T08:21:51.032744Z",
     "start_time": "2025-09-03T08:21:51.014406Z"
    }
   },
   "cell_type": "code",
   "source": [
    "df4 = pd.read_csv(\"stores.csv\")\n",
    "df4.dropna(inplace=True)\n",
    "duplicate_ids = df4[df4.duplicated(subset=[\"store_id\"], keep=False)]\n",
    "print(\"Duplicate store_ids:\\n\", duplicate_ids)\n",
    "df4 = df4.drop_duplicates(subset=[\"store_id\"], keep=\"first\")\n",
    "\n",
    "# 3. Verify no duplicates remain\n",
    "print(\"Remaining duplicates:\", df4.duplicated(subset=[\"store_id\"]).sum())"
   ],
   "id": "b31db6691fcee593",
   "outputs": [
    {
     "name": "stdout",
     "output_type": "stream",
     "text": [
      "Duplicate store_ids:\n",
      "    store_id          store_name store_type region     city  operating_cost\n",
      "17     S017  Robinson PLC Store   Flagship   East  Phoenix        47603.84\n",
      "60     S017  Robinson PLC Store   Flagship   East  Phoenix        47603.84\n",
      "Remaining duplicates: 0\n"
     ]
    }
   ],
   "execution_count": 192
  },
  {
   "metadata": {
    "ExecuteTime": {
     "end_time": "2025-09-03T08:21:51.127830Z",
     "start_time": "2025-09-03T08:21:51.059543Z"
    }
   },
   "cell_type": "code",
   "source": [
    "import pandas as pd\n",
    "\n",
    "df5 = pd.read_csv(\"products.csv\")\n",
    "\n",
    "# --- Step 1: Sold units ---\n",
    "sold_stats = (\n",
    "    df3.groupby(\"product_id\")[\"quantity\"]\n",
    "    .sum()\n",
    "    .reset_index(name=\"sold_units\")\n",
    ")\n",
    "\n",
    "# --- Step 2: Returns ---\n",
    "# Merge returns (df2) with order details (df3) to link order_id → product_id + quantity\n",
    "returns_merged = df2.merge(df3, on=\"order_id\", how=\"inner\")\n",
    "\n",
    "# Derive return units (no return_orders now)\n",
    "return_stats = (\n",
    "    returns_merged\n",
    "    .groupby(\"product_id\")\n",
    "    .agg(\n",
    "        return_quantity=(\"quantity\", \"sum\")   # total returned units\n",
    "    )\n",
    "    .reset_index()\n",
    ")\n",
    "\n",
    "# --- Step 3: Merge everything into products ---\n",
    "df5[\"product_id\"] = df5[\"product_id\"].astype(str)\n",
    "sold_stats[\"product_id\"] = sold_stats[\"product_id\"].astype(str)\n",
    "return_stats[\"product_id\"] = return_stats[\"product_id\"].astype(str)\n",
    "\n",
    "df5 = df5.merge(sold_stats, on=\"product_id\", how=\"left\")\n",
    "df5 = df5.merge(return_stats, on=\"product_id\", how=\"left\")\n",
    "\n",
    "# Fill missing values → 0\n",
    "df5[[\"sold_units\", \"return_quantity\"]] = (\n",
    "    df5[[\"sold_units\", \"return_quantity\"]].fillna(0).astype(int)\n",
    ")\n",
    "\n",
    "# --- Step 4: Return Rate (ratio, not %)\n",
    "df5[\"return_rate\"] = (\n",
    "    df5[\"return_quantity\"] / df5[\"sold_units\"].replace(0, pd.NA)\n",
    ").fillna(0).round(4)\n",
    "duplicate_products = df5[df5.duplicated(subset=[\"product_id\"], keep=False)]\n",
    "#print(\"Duplicate product_ids:\\n\", duplicate_products)\n",
    "df5 = df5.drop_duplicates(subset=[\"product_id\"], keep=\"first\")\n",
    "\n",
    "# 3. Verify\n",
    "print(\"Remaining duplicates:\", df5.duplicated(subset=[\"product_id\"]).sum())\n",
    "\n",
    "df5['brand'] = df5['brand'].fillna(\"Unknown\")\n",
    "\n",
    "# (Optional) Check how many mismatches exist between brand col & product_name\n",
    "df5['brand_in_name'] = df5['product_name'].str.split().str[0]\n",
    "mismatch = df5[df5['brand'] != df5['brand_in_name']]\n",
    "\n",
    "print(\"Mismatched rows between brand column and product_name:\")\n",
    "print(mismatch[['product_id', 'product_name', 'brand']].head(100))\n",
    "\n"
   ],
   "id": "b1604061ae97509a",
   "outputs": [
    {
     "name": "stdout",
     "output_type": "stream",
     "text": [
      "Remaining duplicates: 0\n",
      "Mismatched rows between brand column and product_name:\n",
      "    product_id           product_name   brand\n",
      "0        P0000        BrandA Shoulder  BrandC\n",
      "1        P0001  BrandA Responsibility  BrandD\n",
      "4        P0004          BrandA Indeed  BrandD\n",
      "5        P0005             BrandC Cut  BrandA\n",
      "6        P0006             BrandC Air  BrandA\n",
      "..         ...                    ...     ...\n",
      "115      P0115           BrandC Piece  BrandD\n",
      "116      P0116       BrandC Sometimes  BrandB\n",
      "118      P0118         BrandC Manager  BrandD\n",
      "119      P0119           BrandB Quite  BrandC\n",
      "120      P0120             BrandC Arm  BrandB\n",
      "\n",
      "[100 rows x 3 columns]\n"
     ]
    },
    {
     "name": "stderr",
     "output_type": "stream",
     "text": [
      "C:\\Users\\venkat\\AppData\\Local\\Temp\\ipykernel_31268\\2539961320.py:42: FutureWarning: Downcasting object dtype arrays on .fillna, .ffill, .bfill is deprecated and will change in a future version. Call result.infer_objects(copy=False) instead. To opt-in to the future behavior, set `pd.set_option('future.no_silent_downcasting', True)`\n",
      "  ).fillna(0).round(4)\n"
     ]
    }
   ],
   "execution_count": 193
  },
  {
   "metadata": {
    "ExecuteTime": {
     "end_time": "2025-09-03T08:21:51.185700Z",
     "start_time": "2025-09-03T08:21:51.136880Z"
    }
   },
   "cell_type": "code",
   "source": [
    "df1.to_csv(\"customers_cleaned.csv\", index=False)\n",
    "df2.to_csv(\"returns_cleaned.csv\", index=False)\n",
    "df3.to_csv(\"sales_data_cleaned.csv\", index=False)\n",
    "df4.to_csv(\"stores_cleaned.csv\", index=False)\n",
    "df5.to_csv(\"products_cleaned.csv\", index=False)"
   ],
   "id": "8ec632d5334266bf",
   "outputs": [],
   "execution_count": 194
  },
  {
   "metadata": {
    "ExecuteTime": {
     "end_time": "2025-09-03T08:21:51.233873Z",
     "start_time": "2025-09-03T08:21:51.194562Z"
    }
   },
   "cell_type": "code",
   "source": [
    "df1.info()\n",
    "df2.info()\n",
    "df3.info()\n",
    "df4.info()\n",
    "df5.info()"
   ],
   "id": "43dfc1957351cbb2",
   "outputs": [
    {
     "name": "stdout",
     "output_type": "stream",
     "text": [
      "<class 'pandas.core.frame.DataFrame'>\n",
      "Index: 800 entries, 0 to 799\n",
      "Data columns (total 7 columns):\n",
      " #   Column       Non-Null Count  Dtype         \n",
      "---  ------       --------------  -----         \n",
      " 0   customer_id  800 non-null    object        \n",
      " 1   first_name   800 non-null    object        \n",
      " 2   last_name    800 non-null    object        \n",
      " 3   gender       800 non-null    object        \n",
      " 4   age          800 non-null    int64         \n",
      " 5   signup_date  800 non-null    datetime64[ns]\n",
      " 6   region       800 non-null    object        \n",
      "dtypes: datetime64[ns](1), int64(1), object(5)\n",
      "memory usage: 50.0+ KB\n",
      "<class 'pandas.core.frame.DataFrame'>\n",
      "Index: 200 entries, 0 to 199\n",
      "Data columns (total 4 columns):\n",
      " #   Column         Non-Null Count  Dtype         \n",
      "---  ------         --------------  -----         \n",
      " 0   return_id      200 non-null    object        \n",
      " 1   order_id       200 non-null    object        \n",
      " 2   return_date    200 non-null    datetime64[ns]\n",
      " 3   return_reason  200 non-null    object        \n",
      "dtypes: datetime64[ns](1), object(3)\n",
      "memory usage: 7.8+ KB\n",
      "<class 'pandas.core.frame.DataFrame'>\n",
      "Index: 3000 entries, 0 to 2999\n",
      "Data columns (total 10 columns):\n",
      " #   Column         Non-Null Count  Dtype         \n",
      "---  ------         --------------  -----         \n",
      " 0   order_id       3000 non-null   object        \n",
      " 1   order_date     3000 non-null   datetime64[ns]\n",
      " 2   customer_id    3000 non-null   object        \n",
      " 3   product_id     3000 non-null   object        \n",
      " 4   store_id       3000 non-null   object        \n",
      " 5   sales_channel  3000 non-null   object        \n",
      " 6   quantity       3000 non-null   int64         \n",
      " 7   unit_price     3000 non-null   float64       \n",
      " 8   discount_pct   3000 non-null   float64       \n",
      " 9   total_amount   3000 non-null   float64       \n",
      "dtypes: datetime64[ns](1), float64(3), int64(1), object(5)\n",
      "memory usage: 257.8+ KB\n",
      "<class 'pandas.core.frame.DataFrame'>\n",
      "Index: 60 entries, 0 to 59\n",
      "Data columns (total 6 columns):\n",
      " #   Column          Non-Null Count  Dtype  \n",
      "---  ------          --------------  -----  \n",
      " 0   store_id        60 non-null     object \n",
      " 1   store_name      60 non-null     object \n",
      " 2   store_type      60 non-null     object \n",
      " 3   region          60 non-null     object \n",
      " 4   city            60 non-null     object \n",
      " 5   operating_cost  60 non-null     float64\n",
      "dtypes: float64(1), object(5)\n",
      "memory usage: 3.3+ KB\n",
      "<class 'pandas.core.frame.DataFrame'>\n",
      "Index: 1200 entries, 0 to 1199\n",
      "Data columns (total 11 columns):\n",
      " #   Column           Non-Null Count  Dtype  \n",
      "---  ------           --------------  -----  \n",
      " 0   product_id       1200 non-null   object \n",
      " 1   product_name     1200 non-null   object \n",
      " 2   category         1200 non-null   object \n",
      " 3   brand            1200 non-null   object \n",
      " 4   cost_price       1200 non-null   float64\n",
      " 5   unit_price       1200 non-null   float64\n",
      " 6   margin_pct       1200 non-null   float64\n",
      " 7   sold_units       1200 non-null   int64  \n",
      " 8   return_quantity  1200 non-null   int64  \n",
      " 9   return_rate      1200 non-null   float64\n",
      " 10  brand_in_name    1200 non-null   object \n",
      "dtypes: float64(4), int64(2), object(5)\n",
      "memory usage: 112.5+ KB\n"
     ]
    }
   ],
   "execution_count": 195
  },
  {
   "metadata": {
    "ExecuteTime": {
     "end_time": "2025-09-03T08:21:51.263364Z",
     "start_time": "2025-09-03T08:21:51.238975Z"
    }
   },
   "cell_type": "code",
   "source": [
    "df3[\"total_amount\"] = df3.mean(numeric_only=True).mean()\n",
    "print(df3)"
   ],
   "id": "8c32c92ff74349c",
   "outputs": [
    {
     "name": "stdout",
     "output_type": "stream",
     "text": [
      "     order_id order_date customer_id product_id store_id sales_channel  \\\n",
      "0      O00000 2024-01-31       C0125      P1086        0        Online   \n",
      "1      O00001 2024-09-29       C0633      P0973     S042      In-Store   \n",
      "2      O00002 2023-08-29       C0653      P0659        0        Online   \n",
      "3      O00003 2024-05-13       C0753      P0666     S014      In-Store   \n",
      "4      O00004 2024-07-22       C0627      P0166     S017      In-Store   \n",
      "...       ...        ...         ...        ...      ...           ...   \n",
      "2995   O02995 2025-03-09       C0346      P0972        0        Online   \n",
      "2996   O02996 2024-11-10       C0714      P0856     S047      In-Store   \n",
      "2997   O02997 2024-08-18       C0217      P0586     S021      In-Store   \n",
      "2998   O02998 2023-11-11       C0591      P0053     S006      In-Store   \n",
      "2999   O02999 2025-03-09       C0150      P0606     S037      In-Store   \n",
      "\n",
      "      quantity  unit_price  discount_pct  total_amount  \n",
      "0            2       80.63          0.05    108.802193  \n",
      "1           20      209.16          0.05    108.802193  \n",
      "2            2      218.60          0.10    108.802193  \n",
      "3            1       78.53          0.20    108.802193  \n",
      "4            1      344.93          0.20    108.802193  \n",
      "...        ...         ...           ...           ...  \n",
      "2995         1      113.58          0.20    108.802193  \n",
      "2996         1       72.18          0.05    108.802193  \n",
      "2997         3      276.20          0.20    108.802193  \n",
      "2998         1      222.76          0.20    108.802193  \n",
      "2999         2        6.77          0.05    108.802193  \n",
      "\n",
      "[3000 rows x 10 columns]\n"
     ]
    }
   ],
   "execution_count": 196
  },
  {
   "metadata": {
    "ExecuteTime": {
     "end_time": "2025-09-03T08:21:51.291004Z",
     "start_time": "2025-09-03T08:21:51.270260Z"
    }
   },
   "cell_type": "code",
   "source": [
    "print(df1.isnull().sum())\n",
    "print(df2.isnull().sum())\n",
    "print(df3.isnull().sum())\n",
    "print(df4.isnull().sum())\n",
    "print(df5.isnull().sum())"
   ],
   "id": "591c32ee6415f338",
   "outputs": [
    {
     "name": "stdout",
     "output_type": "stream",
     "text": [
      "customer_id    0\n",
      "first_name     0\n",
      "last_name      0\n",
      "gender         0\n",
      "age            0\n",
      "signup_date    0\n",
      "region         0\n",
      "dtype: int64\n",
      "return_id        0\n",
      "order_id         0\n",
      "return_date      0\n",
      "return_reason    0\n",
      "dtype: int64\n",
      "order_id         0\n",
      "order_date       0\n",
      "customer_id      0\n",
      "product_id       0\n",
      "store_id         0\n",
      "sales_channel    0\n",
      "quantity         0\n",
      "unit_price       0\n",
      "discount_pct     0\n",
      "total_amount     0\n",
      "dtype: int64\n",
      "store_id          0\n",
      "store_name        0\n",
      "store_type        0\n",
      "region            0\n",
      "city              0\n",
      "operating_cost    0\n",
      "dtype: int64\n",
      "product_id         0\n",
      "product_name       0\n",
      "category           0\n",
      "brand              0\n",
      "cost_price         0\n",
      "unit_price         0\n",
      "margin_pct         0\n",
      "sold_units         0\n",
      "return_quantity    0\n",
      "return_rate        0\n",
      "brand_in_name      0\n",
      "dtype: int64\n"
     ]
    }
   ],
   "execution_count": 197
  },
  {
   "metadata": {},
   "cell_type": "markdown",
   "source": "EDA",
   "id": "a3cb0366366eaf0"
  },
  {
   "metadata": {
    "ExecuteTime": {
     "end_time": "2025-09-03T08:21:52.212540Z",
     "start_time": "2025-09-03T08:21:51.304085Z"
    }
   },
   "cell_type": "code",
   "source": [
    "import pandas as pd\n",
    "import matplotlib.pyplot as plt\n",
    "import seaborn as sns\n",
    "\n",
    "df11 = pd.read_csv(\"customers_cleaned.csv\")\n",
    "df22 = pd.read_csv(\"returns_cleaned.csv\")\n",
    "df33 = pd.read_csv(\"sales_data_cleaned.csv\")\n",
    "df44 = pd.read_csv(\"stores_cleaned.csv\")\n",
    "df55 = pd.read_csv(\"products_cleaned.csv\")\n",
    "\n",
    "dfs = {\n",
    "    \"customers\": df11,\n",
    "    \"returns\": df22,\n",
    "    \"sales_data\": df33,\n",
    "    \"stores\": df44,\n",
    "    \"products\": df55\n",
    "}\n",
    "\n",
    "for name, df in dfs.items():\n",
    "    numeric_cols = df.select_dtypes(include=[\"number\"]).columns\n",
    "    if not numeric_cols.empty:\n",
    "        plt.figure(figsize=(8, 5))\n",
    "        sns.boxplot(data=df[numeric_cols])\n",
    "        plt.title(f\"Outliers in {name}\")\n",
    "        plt.xticks(rotation=45)\n",
    "        plt.show()\n"
   ],
   "id": "5dca975301b38d35",
   "outputs": [
    {
     "data": {
      "text/plain": [
       "<Figure size 800x500 with 1 Axes>"
      ],
      "image/png": "[encoded data removed]"
     },
     "metadata": {},
     "output_type": "display_data"
    },
    {
     "data": {
      "text/plain": [
       "<Figure size 800x500 with 1 Axes>"
      ],
      "image/png": "[encoded data removed]"
     },
     "metadata": {},
     "output_type": "display_data"
    },
    {
     "data": {
      "text/plain": [
       "<Figure size 800x500 with 1 Axes>"
      ],
      "image/png": "[encoded data removed]"
     },
     "metadata": {},
     "output_type": "display_data"
    },
    {
     "data": {
      "text/plain": [
       "<Figure size 800x500 with 1 Axes>"
      ],
      "image/png": "[encoded data removed]"
     },
     "metadata": {},
     "output_type": "display_data"
    }
   ],
   "execution_count": 198
  },
  {
   "metadata": {
    "ExecuteTime": {
     "end_time": "2025-09-03T08:21:52.251392Z",
     "start_time": "2025-09-03T08:21:52.230102Z"
    }
   },
   "cell_type": "code",
   "source": "df22.describe()",
   "id": "f73ba28feb7ff610",
   "outputs": [
    {
     "data": {
      "text/plain": [
       "       return_id order_id return_date return_reason\n",
       "count        200      200         200           200\n",
       "unique       200      193         176             4\n",
       "top        R0000   O00362  2023-08-10     Defective\n",
       "freq           1        3           3            63"
      ],
      "text/html": [
       "<div>\n",
       "<style scoped>\n",
       "    .dataframe tbody tr th:only-of-type {\n",
       "        vertical-align: middle;\n",
       "    }\n",
       "\n",
       "    .dataframe tbody tr th {\n",
       "        vertical-align: top;\n",
       "    }\n",
       "\n",
       "    .dataframe thead th {\n",
       "        text-align: right;\n",
       "    }\n",
       "</style>\n",
       "<table border=\"1\" class=\"dataframe\">\n",
       "  <thead>\n",
       "    <tr style=\"text-align: right;\">\n",
       "      <th></th>\n",
       "      <th>return_id</th>\n",
       "      <th>order_id</th>\n",
       "      <th>return_date</th>\n",
       "      <th>return_reason</th>\n",
       "    </tr>\n",
       "  </thead>\n",
       "  <tbody>\n",
       "    <tr>\n",
       "      <th>count</th>\n",
       "      <td>200</td>\n",
       "      <td>200</td>\n",
       "      <td>200</td>\n",
       "      <td>200</td>\n",
       "    </tr>\n",
       "    <tr>\n",
       "      <th>unique</th>\n",
       "      <td>200</td>\n",
       "      <td>193</td>\n",
       "      <td>176</td>\n",
       "      <td>4</td>\n",
       "    </tr>\n",
       "    <tr>\n",
       "      <th>top</th>\n",
       "      <td>R0000</td>\n",
       "      <td>O00362</td>\n",
       "      <td>2023-08-10</td>\n",
       "      <td>Defective</td>\n",
       "    </tr>\n",
       "    <tr>\n",
       "      <th>freq</th>\n",
       "      <td>1</td>\n",
       "      <td>3</td>\n",
       "      <td>3</td>\n",
       "      <td>63</td>\n",
       "    </tr>\n",
       "  </tbody>\n",
       "</table>\n",
       "</div>"
      ]
     },
     "execution_count": 199,
     "metadata": {},
     "output_type": "execute_result"
    }
   ],
   "execution_count": 199
  },
  {
   "metadata": {
    "ExecuteTime": {
     "end_time": "2025-09-03T08:21:52.295753Z",
     "start_time": "2025-09-03T08:21:52.279646Z"
    }
   },
   "cell_type": "code",
   "source": [
    "#adding profit column\n",
    "df55[\"profit\"] = (df55[\"unit_price\"] - df55[\"cost_price\"]).round(2)\n",
    "print(df5.head())"
   ],
   "id": "9df9205ecf428713",
   "outputs": [
    {
     "name": "stdout",
     "output_type": "stream",
     "text": [
      "  product_id           product_name     category   brand  cost_price  \\\n",
      "0      P0000        BrandA Shoulder  Electronics  BrandC       52.75   \n",
      "1      P0001  BrandA Responsibility  Electronics  BrandD       11.20   \n",
      "2      P0002           BrandB Small  Electronics  BrandB      144.62   \n",
      "3      P0003        BrandD Continue      Apparel  BrandD      119.91   \n",
      "4      P0004          BrandA Indeed      Apparel  BrandD       71.35   \n",
      "\n",
      "   unit_price  margin_pct  sold_units  return_quantity  return_rate  \\\n",
      "0       64.65       18.41           9                3       0.3333   \n",
      "1       13.26       15.54           4                0       0.0000   \n",
      "2      250.37       42.24           0                0       0.0000   \n",
      "3      219.25       45.31           0                0       0.0000   \n",
      "4       88.47       19.35           5                0       0.0000   \n",
      "\n",
      "  brand_in_name  \n",
      "0        BrandA  \n",
      "1        BrandA  \n",
      "2        BrandB  \n",
      "3        BrandD  \n",
      "4        BrandA  \n"
     ]
    }
   ],
   "execution_count": 200
  },
  {
   "metadata": {
    "ExecuteTime": {
     "end_time": "2025-09-03T08:21:52.331265Z",
     "start_time": "2025-09-03T08:21:52.308347Z"
    }
   },
   "cell_type": "code",
   "source": [
    "#adding age_group column\n",
    "def age_group(age):\n",
    "    if age <= 17:\n",
    "        return \"Teen\"\n",
    "    elif age <= 25:\n",
    "        return \"Young Adult\"\n",
    "    elif age <= 35:\n",
    "        return \"Adult\"\n",
    "    elif age <= 50:\n",
    "        return \"Middle-aged\"\n",
    "    else:\n",
    "        return \"Senior\"\n",
    "\n",
    "df11[\"age_group\"] = df11[\"age\"].apply(age_group)\n",
    "df11.head()\n"
   ],
   "id": "e85680b39dc5f518",
   "outputs": [
    {
     "data": {
      "text/plain": [
       "  customer_id first_name last_name  gender  age signup_date region  \\\n",
       "0       C0000    Patrick    Morgan    Male   18  2024-07-11  South   \n",
       "1       C0001       Eric       Lee   Other   36  2020-09-20   East   \n",
       "2       C0002     Thomas      Pena  Female   44  2021-03-07   East   \n",
       "3       C0003     Dalton     Duran    Male   24  2021-08-29  South   \n",
       "4       C0004     Travis   Mcclain    Male   50  2023-03-29  South   \n",
       "\n",
       "     age_group  \n",
       "0  Young Adult  \n",
       "1  Middle-aged  \n",
       "2  Middle-aged  \n",
       "3  Young Adult  \n",
       "4  Middle-aged  "
      ],
      "text/html": [
       "<div>\n",
       "<style scoped>\n",
       "    .dataframe tbody tr th:only-of-type {\n",
       "        vertical-align: middle;\n",
       "    }\n",
       "\n",
       "    .dataframe tbody tr th {\n",
       "        vertical-align: top;\n",
       "    }\n",
       "\n",
       "    .dataframe thead th {\n",
       "        text-align: right;\n",
       "    }\n",
       "</style>\n",
       "<table border=\"1\" class=\"dataframe\">\n",
       "  <thead>\n",
       "    <tr style=\"text-align: right;\">\n",
       "      <th></th>\n",
       "      <th>customer_id</th>\n",
       "      <th>first_name</th>\n",
       "      <th>last_name</th>\n",
       "      <th>gender</th>\n",
       "      <th>age</th>\n",
       "      <th>signup_date</th>\n",
       "      <th>region</th>\n",
       "      <th>age_group</th>\n",
       "    </tr>\n",
       "  </thead>\n",
       "  <tbody>\n",
       "    <tr>\n",
       "      <th>0</th>\n",
       "      <td>C0000</td>\n",
       "      <td>Patrick</td>\n",
       "      <td>Morgan</td>\n",
       "      <td>Male</td>\n",
       "      <td>18</td>\n",
       "      <td>2024-07-11</td>\n",
       "      <td>South</td>\n",
       "      <td>Young Adult</td>\n",
       "    </tr>\n",
       "    <tr>\n",
       "      <th>1</th>\n",
       "      <td>C0001</td>\n",
       "      <td>Eric</td>\n",
       "      <td>Lee</td>\n",
       "      <td>Other</td>\n",
       "      <td>36</td>\n",
       "      <td>2020-09-20</td>\n",
       "      <td>East</td>\n",
       "      <td>Middle-aged</td>\n",
       "    </tr>\n",
       "    <tr>\n",
       "      <th>2</th>\n",
       "      <td>C0002</td>\n",
       "      <td>Thomas</td>\n",
       "      <td>Pena</td>\n",
       "      <td>Female</td>\n",
       "      <td>44</td>\n",
       "      <td>2021-03-07</td>\n",
       "      <td>East</td>\n",
       "      <td>Middle-aged</td>\n",
       "    </tr>\n",
       "    <tr>\n",
       "      <th>3</th>\n",
       "      <td>C0003</td>\n",
       "      <td>Dalton</td>\n",
       "      <td>Duran</td>\n",
       "      <td>Male</td>\n",
       "      <td>24</td>\n",
       "      <td>2021-08-29</td>\n",
       "      <td>South</td>\n",
       "      <td>Young Adult</td>\n",
       "    </tr>\n",
       "    <tr>\n",
       "      <th>4</th>\n",
       "      <td>C0004</td>\n",
       "      <td>Travis</td>\n",
       "      <td>Mcclain</td>\n",
       "      <td>Male</td>\n",
       "      <td>50</td>\n",
       "      <td>2023-03-29</td>\n",
       "      <td>South</td>\n",
       "      <td>Middle-aged</td>\n",
       "    </tr>\n",
       "  </tbody>\n",
       "</table>\n",
       "</div>"
      ]
     },
     "execution_count": 201,
     "metadata": {},
     "output_type": "execute_result"
    }
   ],
   "execution_count": 201
  },
  {
   "metadata": {
    "ExecuteTime": {
     "end_time": "2025-09-03T08:21:52.802071Z",
     "start_time": "2025-09-03T08:21:52.358049Z"
    }
   },
   "cell_type": "code",
   "source": [
    "import pandas as pd\n",
    "import matplotlib.pyplot as plt\n",
    "\n",
    "df33[\"order_date\"] = pd.to_datetime(df33[\"order_date\"], errors=\"coerce\")\n",
    "\n",
    "# ---- Sales Trend ----\n",
    "sales_trend = df33.groupby(df3[\"order_date\"].dt.to_period(\"M\"))[\"total_amount\"].sum().reset_index()\n",
    "sales_trend[\"order_date\"] = sales_trend[\"order_date\"].dt.to_timestamp()\n",
    "\n",
    "plt.figure(figsize=(10,5))\n",
    "plt.plot(sales_trend[\"order_date\"], sales_trend[\"total_amount\"], marker=\"o\")\n",
    "plt.title(\"Monthly Sales Trend\")\n",
    "plt.xlabel(\"Month\")\n",
    "plt.ylabel(\"Total Sales\")\n",
    "plt.grid(True)\n",
    "plt.show()\n",
    "\n",
    "# ---- Top Customers ----\n",
    "top_customers = df33.groupby(\"customer_id\")[\"total_amount\"].sum().sort_values(ascending=False).head(10)\n",
    "\n",
    "plt.figure(figsize=(8,5))\n",
    "top_customers.plot(kind=\"bar\", color=\"orange\")\n",
    "plt.title(\"Top 10 Customers by Sales\")\n",
    "plt.xlabel(\"Customer ID\")\n",
    "plt.ylabel(\"Total Sales\")\n",
    "plt.xticks(rotation=45)\n",
    "plt.show()\n",
    "\n"
   ],
   "id": "a31b53a594d20b7",
   "outputs": [
    {
     "data": {
      "text/plain": [
       "<Figure size 1000x500 with 1 Axes>"
      ],
      "image/png": "[encoded data removed]"
     },
     "metadata": {},
     "output_type": "display_data"
    },
    {
     "data": {
      "text/plain": [
       "<Figure size 800x500 with 1 Axes>"
      ],
      "image/png": "[encoded data removed]"
     },
     "metadata": {},
     "output_type": "display_data"
    }
   ],
   "execution_count": 202
  },
  {
   "metadata": {
    "ExecuteTime": {
     "end_time": "2025-09-03T08:21:52.867214Z",
     "start_time": "2025-09-03T08:21:52.815524Z"
    }
   },
   "cell_type": "code",
   "source": [
    "# Saving cleaned dataframes to new CSVs\n",
    "df11.to_csv(\"customers_cleaned1.csv\", index=False)\n",
    "df22.to_csv(\"returns_cleaned1.csv\", index=False)\n",
    "df33.to_csv(\"sales_data_cleaned1.csv\", index=False)\n",
    "df44.to_csv(\"stores_cleaned1.csv\", index=False)\n",
    "df55.to_csv(\"products_cleaned1.csv\", index=False)"
   ],
   "id": "ad6352a9850ddb6f",
   "outputs": [],
   "execution_count": 203
  }
 ],
 "metadata": {
  "kernelspec": {
   "display_name": "Python 3",
   "language": "python",
   "name": "python3"
  },
  "language_info": {
   "codemirror_mode": {
    "name": "ipython",
    "version": 2
   },
   "file_extension": ".py",
   "mimetype": "text/x-python",
   "name": "python",
   "nbconvert_exporter": "python",
   "pygments_lexer": "ipython2",
   "version": "2.7.6"
  }
 },
 "nbformat": 4,
 "nbformat_minor": 5
}
